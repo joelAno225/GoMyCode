{
  "nbformat": 4,
  "nbformat_minor": 0,
  "metadata": {
    "colab": {
      "name": "checkpoint2.ipynb",
      "provenance": [],
      "collapsed_sections": [],
      "authorship_tag": "ABX9TyMS+q5pjPLRscUwRnsEmbu0",
      "include_colab_link": true
    },
    "kernelspec": {
      "name": "python3",
      "display_name": "Python 3"
    },
    "language_info": {
      "name": "python"
    }
  },
  "cells": [
    {
      "cell_type": "markdown",
      "metadata": {
        "id": "view-in-github",
        "colab_type": "text"
      },
      "source": [
        "<a href=\"https://colab.research.google.com/github/joelAno225/GoMyCode/blob/main/checkpoint2.ipynb\" target=\"_parent\"><img src=\"https://colab.research.google.com/assets/colab-badge.svg\" alt=\"Open In Colab\"/></a>"
      ]
    },
    {
      "cell_type": "markdown",
      "source": [
        "#Question1"
      ],
      "metadata": {
        "id": "XXfsjqVtX5SG"
      }
    },
    {
      "cell_type": "code",
      "source": [
        "#Écrivez un programme qui trouvera tous les nombres divisibles par 7 mais non multiples de 5,\n",
        "#entre 2000 et 3200 (les deux inclus). Les nombres obtenus doivent être imprimés dans une liste.\n",
        "#en utilisant la méthode range().\n",
        "\n",
        "list([i for i in range(2000, 3201) if i % 7 == 0 if i % 5 != 0] )\n",
        "#la liste s\"affiche en horizontale "
      ],
      "metadata": {
        "colab": {
          "base_uri": "https://localhost:8080/"
        },
        "id": "r-dI_TLDYAQM",
        "outputId": "f1da7cda-ebf3-4896-c631-9f75d2b26213"
      },
      "execution_count": 4,
      "outputs": [
        {
          "output_type": "execute_result",
          "data": {
            "text/plain": [
              "[2002,\n",
              " 2009,\n",
              " 2016,\n",
              " 2023,\n",
              " 2037,\n",
              " 2044,\n",
              " 2051,\n",
              " 2058,\n",
              " 2072,\n",
              " 2079,\n",
              " 2086,\n",
              " 2093,\n",
              " 2107,\n",
              " 2114,\n",
              " 2121,\n",
              " 2128,\n",
              " 2142,\n",
              " 2149,\n",
              " 2156,\n",
              " 2163,\n",
              " 2177,\n",
              " 2184,\n",
              " 2191,\n",
              " 2198,\n",
              " 2212,\n",
              " 2219,\n",
              " 2226,\n",
              " 2233,\n",
              " 2247,\n",
              " 2254,\n",
              " 2261,\n",
              " 2268,\n",
              " 2282,\n",
              " 2289,\n",
              " 2296,\n",
              " 2303,\n",
              " 2317,\n",
              " 2324,\n",
              " 2331,\n",
              " 2338,\n",
              " 2352,\n",
              " 2359,\n",
              " 2366,\n",
              " 2373,\n",
              " 2387,\n",
              " 2394,\n",
              " 2401,\n",
              " 2408,\n",
              " 2422,\n",
              " 2429,\n",
              " 2436,\n",
              " 2443,\n",
              " 2457,\n",
              " 2464,\n",
              " 2471,\n",
              " 2478,\n",
              " 2492,\n",
              " 2499,\n",
              " 2506,\n",
              " 2513,\n",
              " 2527,\n",
              " 2534,\n",
              " 2541,\n",
              " 2548,\n",
              " 2562,\n",
              " 2569,\n",
              " 2576,\n",
              " 2583,\n",
              " 2597,\n",
              " 2604,\n",
              " 2611,\n",
              " 2618,\n",
              " 2632,\n",
              " 2639,\n",
              " 2646,\n",
              " 2653,\n",
              " 2667,\n",
              " 2674,\n",
              " 2681,\n",
              " 2688,\n",
              " 2702,\n",
              " 2709,\n",
              " 2716,\n",
              " 2723,\n",
              " 2737,\n",
              " 2744,\n",
              " 2751,\n",
              " 2758,\n",
              " 2772,\n",
              " 2779,\n",
              " 2786,\n",
              " 2793,\n",
              " 2807,\n",
              " 2814,\n",
              " 2821,\n",
              " 2828,\n",
              " 2842,\n",
              " 2849,\n",
              " 2856,\n",
              " 2863,\n",
              " 2877,\n",
              " 2884,\n",
              " 2891,\n",
              " 2898,\n",
              " 2912,\n",
              " 2919,\n",
              " 2926,\n",
              " 2933,\n",
              " 2947,\n",
              " 2954,\n",
              " 2961,\n",
              " 2968,\n",
              " 2982,\n",
              " 2989,\n",
              " 2996,\n",
              " 3003,\n",
              " 3017,\n",
              " 3024,\n",
              " 3031,\n",
              " 3038,\n",
              " 3052,\n",
              " 3059,\n",
              " 3066,\n",
              " 3073,\n",
              " 3087,\n",
              " 3094,\n",
              " 3101,\n",
              " 3108,\n",
              " 3122,\n",
              " 3129,\n",
              " 3136,\n",
              " 3143,\n",
              " 3157,\n",
              " 3164,\n",
              " 3171,\n",
              " 3178,\n",
              " 3192,\n",
              " 3199]"
            ]
          },
          "metadata": {},
          "execution_count": 4
        }
      ]
    },
    {
      "cell_type": "markdown",
      "source": [
        "#Question2"
      ],
      "metadata": {
        "id": "mhFUS-7Lqv1E"
      }
    },
    {
      "cell_type": "code",
      "source": [
        "#Programe pour calculer le factoriel de n'inporte quel nombre\n",
        "\n",
        "def factoriel(n):\n",
        "  if n == 0:\n",
        "    return 1\n",
        "  else :\n",
        "    return n*factoriel(n-1)  \n",
        "x = int(input(\"Entrer la valeur de x :\"))   \n",
        "y = factoriel(x)\n",
        "print(\"{}!= {}\".format(x,y))   "
      ],
      "metadata": {
        "colab": {
          "base_uri": "https://localhost:8080/"
        },
        "id": "vWBkf0mcq6-j",
        "outputId": "6fb8e4b0-094e-4d4d-af35-a24e2bfd6dd6"
      },
      "execution_count": null,
      "outputs": [
        {
          "output_type": "stream",
          "name": "stdout",
          "text": [
            "Entrer la valeur de x :5\n",
            "5!= 120\n"
          ]
        }
      ]
    },
    {
      "cell_type": "markdown",
      "source": [
        "#Question3"
      ],
      "metadata": {
        "id": "WcZWuIO6yEOq"
      }
    },
    {
      "cell_type": "code",
      "source": [
        "#Avec un nombre entier n donné, écrivez un programme pour générer un dictionnaire qui contient \n",
        "#(i, i*i) tel qu'il soit un nombre entier compris entre 1 et n (tous deux inclus). \n",
        "#puis le programme doit imprimer le dictionnaire. Supposons que l'entrée suivante soit fournie \n",
        "#au programme : 8 Ensuite, la sortie doit être : {1 : 1, 2 : 4, 3 : 9, 4 : 16, 5 : 25, 6 : 36, 7 : 49, 8 : 64 }\n",
        "\n",
        "nbr_n = int(input(\"Entrer un nombre: \"))\n",
        "\n",
        "nbr_n_Dict = {}\n",
        "for i in range(1, nbr_n+1):\n",
        "    nbr_n_Dict[i] = i*i\n",
        "\n",
        "print(nbr_n_Dict)"
      ],
      "metadata": {
        "colab": {
          "base_uri": "https://localhost:8080/"
        },
        "id": "_lUE9qrUy1LV",
        "outputId": "62655dcc-499d-4497-b3be-866bfd17b546"
      },
      "execution_count": null,
      "outputs": [
        {
          "output_type": "stream",
          "name": "stdout",
          "text": [
            "Entrer un nombre: 2\n",
            "{1: 1, 2: 4}\n"
          ]
        }
      ]
    },
    {
      "cell_type": "markdown",
      "source": [
        "#Question4"
      ],
      "metadata": {
        "id": "h1js53fSqftI"
      }
    },
    {
      "cell_type": "code",
      "source": [
        "#Étant donné une chaîne non vide et un int n, renvoie une nouvelle chaîne où le caractère à l'index n a été supprimé.\n",
        "# La valeur de n sera un index valide d'un caractère dans la chaîne d'origine \n",
        "#(c'est-à-dire que n sera compris entre 0..len(str)-1 inclus).\n",
        "#missing_char('kitten', 1) → 'ktten' par exemple ici on supprime \"i\" qui se trouve dans l'index 1\n",
        "#missing_char('kitten', 0) → 'itten' ici on supprime \"k\" qui est dans l'index 0\n",
        "#missing_char('kitten', 4) → 'kittn' ici on supprime \"e\" qui est dans l'index 4\n",
        "\n",
        "def missing_char(str, n):\n",
        "      first_part = str[:n] \n",
        "      last_part = str[n+1:]\n",
        "      return first_part + last_part\n",
        "print(missing_char('kitten', 1))\n",
        "print(missing_char('kitten', 0))\n",
        "print(missing_char('kitten', 4))"
      ],
      "metadata": {
        "colab": {
          "base_uri": "https://localhost:8080/"
        },
        "id": "Mzvnlgu0qk2r",
        "outputId": "7486024b-65ac-45e2-a597-8b6778387e36"
      },
      "execution_count": 7,
      "outputs": [
        {
          "output_type": "stream",
          "name": "stdout",
          "text": [
            "ktten\n",
            "itten\n",
            "kittn\n"
          ]
        }
      ]
    },
    {
      "cell_type": "markdown",
      "source": [
        "#Question5"
      ],
      "metadata": {
        "id": "6la7wAOOwajw"
      }
    },
    {
      "cell_type": "code",
      "source": [
        "#Écrivez un programme NumPy pour convertir un tableau NumPy en une structure de liste Python\n",
        "#Production attendue: Éléments du tableau d'origine : [[0 1] [2 3] [4 5]]\n",
        "#Tableau à liste : [[0, 1], [2, 3], [4, 5]]\n",
        "#Astuce : on peut utiliser la fonction to_list() pour assurer la conversion.\n",
        "\n",
        "import numpy as np\n",
        "\n",
        "x= np.array([[0, 1], [2, 3], [4, 5]])\n",
        "x.tolist()"
      ],
      "metadata": {
        "colab": {
          "base_uri": "https://localhost:8080/"
        },
        "id": "qmhKdAFAwg4G",
        "outputId": "185abd12-3654-4172-ac48-4728fd9a428d"
      },
      "execution_count": 14,
      "outputs": [
        {
          "output_type": "execute_result",
          "data": {
            "text/plain": [
              "[[0, 1], [2, 3], [4, 5]]"
            ]
          },
          "metadata": {},
          "execution_count": 14
        }
      ]
    },
    {
      "cell_type": "markdown",
      "source": [
        "#Question6"
      ],
      "metadata": {
        "id": "VoVzlfAr4lfW"
      }
    },
    {
      "cell_type": "code",
      "source": [
        "#Écrivez un programme NumPy pour calculer la matrice de covariance de deux tableaux donnés.\n",
        "#Tableau d'origine1 : [0 1 2]\n",
        "#Tableau d'origine2 : [2 1 0]\n",
        "#Matrice de covariance desdits tableaux : [[ 1. -1.] [-1. 1.]]\n",
        "\n",
        "import numpy as np\n",
        "a= np.array([1, 2 ,3])\n",
        "b= np.array([1, 2 ,3])\n",
        "print(\"\\n Tableau 1\")\n",
        "print(a)\n",
        "print(\"\\n Tableau 2\")\n",
        "print(b)\n",
        "#calcule de coovariance \n",
        "print(\"\\n la cov(a,b) est; \\n\",np.cov(a,b))"
      ],
      "metadata": {
        "colab": {
          "base_uri": "https://localhost:8080/"
        },
        "id": "mggP0HPE4uHx",
        "outputId": "322d44d2-08b7-4a68-e7ea-9cc7af7fb09c"
      },
      "execution_count": 19,
      "outputs": [
        {
          "output_type": "stream",
          "name": "stdout",
          "text": [
            "\n",
            " Tableau 1\n",
            "[1 2 3]\n",
            "\n",
            " Tableau 2\n",
            "[1 2 3]\n",
            "\n",
            " la cov(a,b) est; \n",
            " [[1. 1.]\n",
            " [1. 1.]]\n"
          ]
        }
      ]
    },
    {
      "cell_type": "markdown",
      "source": [
        "#Question7"
      ],
      "metadata": {
        "id": "d6PEZqPTAWef"
      }
    },
    {
      "cell_type": "code",
      "source": [
        "#Question : Écrivez un programme qui calcule et imprime la valeur selon la formule donnée : Q = Racine carrée de [(2 * C * D)/H]\n",
        "\n",
        "#Voici les valeurs fixes de C et H : C est 50. H est 30.D est la variable dont les valeurs doivent être entrées \n",
        "\n",
        "#dans votre programme dans une séquence séparée par des virgules. (cela signifie que D contient plus que la valeur)\n",
        "\n",
        "#Exemple Supposons que la séquence d'entrée suivante séparée par des virgules est donnée au programme : 100,150,180 \n",
        "#La sortie du programme doit être : 18,22,24\n",
        "\n",
        "#Pour expliquer cela plus en détail, nous obtiendrons un résultat pour chaque valeur de D : \n",
        "#Q1= Racine carrée de [(2 * C * 100)/H] =18, Q2= Racine carrée de [(2 * C * 150)/H ] = 22 et Q3 = Racine carrée de [(2 * C * 180)/H] = 24\n",
        "#Conseils : Si la sortie reçue est sous forme décimale, \n",
        "#elle doit être arrondie à sa valeur la plus proche (par exemple, si la sortie reçue est 26,0, elle doit être imprimée sous la forme 26) En cas de données d'entrée fournies à la question, il doit être supposé être une entrée de console.\n",
        "\n",
        "import math\n",
        "\n",
        "C=50\n",
        "H=30\n",
        "value = []\n",
        "items=[x for x in input().split(',')]\n",
        "for D in items:\n",
        "   Q = value.append(str(int(round(math.sqrt(2*C*float(D)/H)))))\n",
        "print (','.join(value))"
      ],
      "metadata": {
        "colab": {
          "base_uri": "https://localhost:8080/"
        },
        "id": "WZGJ6u1cAeHx",
        "outputId": "22d1fc85-9163-42fb-fab7-86fd58dde033"
      },
      "execution_count": 25,
      "outputs": [
        {
          "output_type": "stream",
          "name": "stdout",
          "text": [
            "200,50,69\n",
            "26,13,15\n"
          ]
        }
      ]
    }
  ]
}